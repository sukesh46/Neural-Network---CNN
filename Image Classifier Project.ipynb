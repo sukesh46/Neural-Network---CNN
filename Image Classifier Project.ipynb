{
 "cells": [
  {
   "cell_type": "code",
   "execution_count": 5,
   "id": "d91f97f6",
   "metadata": {},
   "outputs": [],
   "source": [
    "from keras.preprocessing.image import ImageDataGenerator\n",
    "from keras.models import Sequential\n",
    "from keras.layers import Conv2D, MaxPooling2D\n",
    "from keras.layers import Activation, Dropout, Flatten, Dense\n",
    "from keras import backend as K\n",
    " \n",
    "img_width, img_height = 224, 224"
   ]
  },
  {
   "cell_type": "code",
   "execution_count": 6,
   "id": "7384ae8c",
   "metadata": {},
   "outputs": [],
   "source": [
    "train_data_dir = 'v_data/train'\n",
    "validation_data_dir = 'v_data/test'\n",
    "nb_train_samples =400\n",
    "nb_validation_samples = 100\n",
    "epochs = 10\n",
    "batch_size = 16"
   ]
  },
  {
   "cell_type": "code",
   "execution_count": 7,
   "id": "021e9b10",
   "metadata": {},
   "outputs": [],
   "source": [
    "if K.image_data_format() == 'channels_first':\n",
    "    input_shape = (3, img_width, img_height)\n",
    "else:\n",
    "    input_shape = (img_width, img_height, 3)"
   ]
  },
  {
   "cell_type": "code",
   "execution_count": 9,
   "id": "f56b21ee",
   "metadata": {},
   "outputs": [],
   "source": [
    "model = Sequential()\n",
    "model.add(Conv2D(32, (2, 2), input_shape=input_shape))\n",
    "model.add(Activation('relu'))\n",
    "model.add(MaxPooling2D(pool_size=(2, 2)))\n",
    " \n",
    "model.add(Conv2D(32, (2, 2)))\n",
    "model.add(Activation('relu'))\n",
    "model.add(MaxPooling2D(pool_size=(2, 2)))\n",
    " \n",
    "model.add(Conv2D(64, (2, 2)))\n",
    "model.add(Activation('relu'))\n",
    "model.add(MaxPooling2D(pool_size=(2, 2)))\n",
    " \n",
    "model.add(Flatten())\n",
    "model.add(Dense(64))\n",
    "model.add(Activation('relu'))\n",
    "model.add(Dropout(0.5))\n",
    "model.add(Dense(1))\n",
    "model.add(Activation('sigmoid'))"
   ]
  },
  {
   "cell_type": "code",
   "execution_count": 10,
   "id": "fcb7ab03",
   "metadata": {},
   "outputs": [],
   "source": [
    "model.compile(loss='binary_crossentropy',\n",
    "              optimizer='rmsprop',\n",
    "              metrics=['accuracy'])"
   ]
  },
  {
   "cell_type": "code",
   "execution_count": 11,
   "id": "8b6598c2",
   "metadata": {},
   "outputs": [
    {
     "name": "stdout",
     "output_type": "stream",
     "text": [
      "Found 400 images belonging to 2 classes.\n",
      "Found 100 images belonging to 2 classes.\n"
     ]
    },
    {
     "name": "stderr",
     "output_type": "stream",
     "text": [
      "C:\\Users\\DELL\\AppData\\Local\\Temp\\ipykernel_16828\\2148555315.py:21: UserWarning: `Model.fit_generator` is deprecated and will be removed in a future version. Please use `Model.fit`, which supports generators.\n",
      "  model.fit_generator(\n"
     ]
    },
    {
     "name": "stdout",
     "output_type": "stream",
     "text": [
      "Epoch 1/10\n",
      "25/25 [==============================] - 14s 478ms/step - loss: 1.0065 - accuracy: 0.5575 - val_loss: 0.6922 - val_accuracy: 0.5104\n",
      "Epoch 2/10\n",
      "25/25 [==============================] - 12s 497ms/step - loss: 0.6223 - accuracy: 0.6725 - val_loss: 0.3476 - val_accuracy: 0.8854\n",
      "Epoch 3/10\n",
      "25/25 [==============================] - 13s 525ms/step - loss: 0.5012 - accuracy: 0.7725 - val_loss: 0.2940 - val_accuracy: 0.9062\n",
      "Epoch 4/10\n",
      "25/25 [==============================] - 13s 519ms/step - loss: 0.4156 - accuracy: 0.8375 - val_loss: 0.2883 - val_accuracy: 0.8854\n",
      "Epoch 5/10\n",
      "25/25 [==============================] - 13s 534ms/step - loss: 0.4289 - accuracy: 0.8300 - val_loss: 0.2779 - val_accuracy: 0.9062\n",
      "Epoch 6/10\n",
      "25/25 [==============================] - 14s 538ms/step - loss: 0.3717 - accuracy: 0.8450 - val_loss: 0.2837 - val_accuracy: 0.8854\n",
      "Epoch 7/10\n",
      "25/25 [==============================] - 14s 544ms/step - loss: 0.3167 - accuracy: 0.8625 - val_loss: 0.2842 - val_accuracy: 0.8646\n",
      "Epoch 8/10\n",
      "25/25 [==============================] - 14s 555ms/step - loss: 0.3109 - accuracy: 0.8525 - val_loss: 0.3189 - val_accuracy: 0.8542\n",
      "Epoch 9/10\n",
      "25/25 [==============================] - 14s 567ms/step - loss: 0.2910 - accuracy: 0.8975 - val_loss: 0.3053 - val_accuracy: 0.8854\n",
      "Epoch 10/10\n",
      "25/25 [==============================] - 15s 575ms/step - loss: 0.3349 - accuracy: 0.8775 - val_loss: 0.6233 - val_accuracy: 0.7917\n"
     ]
    },
    {
     "data": {
      "text/plain": [
       "<keras.src.callbacks.History at 0x282e85b6110>"
      ]
     },
     "execution_count": 11,
     "metadata": {},
     "output_type": "execute_result"
    }
   ],
   "source": [
    "train_datagen = ImageDataGenerator(\n",
    "    rescale=1. / 255,\n",
    "    shear_range=0.2,\n",
    "    zoom_range=0.2,\n",
    "    horizontal_flip=True)\n",
    " \n",
    "test_datagen = ImageDataGenerator(rescale=1. / 255)\n",
    " \n",
    "train_generator = train_datagen.flow_from_directory(\n",
    "    train_data_dir,\n",
    "    target_size=(img_width, img_height),\n",
    "    batch_size=batch_size,\n",
    "    class_mode='binary')\n",
    " \n",
    "validation_generator = test_datagen.flow_from_directory(\n",
    "    validation_data_dir,\n",
    "    target_size=(img_width, img_height),\n",
    "    batch_size=batch_size,\n",
    "    class_mode='binary')\n",
    " \n",
    "model.fit_generator(\n",
    "    train_generator,\n",
    "    steps_per_epoch=nb_train_samples // batch_size,\n",
    "    epochs=epochs,\n",
    "    validation_data=validation_generator,\n",
    "    validation_steps=nb_validation_samples // batch_size)"
   ]
  },
  {
   "cell_type": "code",
   "execution_count": 28,
   "id": "1e26b131",
   "metadata": {},
   "outputs": [],
   "source": [
    "model.save_weights('model_saved.h5')"
   ]
  },
  {
   "cell_type": "code",
   "execution_count": 30,
   "id": "64579267",
   "metadata": {},
   "outputs": [],
   "source": [
    "model.load_weights('model_saved.h5')"
   ]
  },
  {
   "cell_type": "code",
   "execution_count": 55,
   "id": "d26c80e6",
   "metadata": {},
   "outputs": [
    {
     "name": "stderr",
     "output_type": "stream",
     "text": [
      "C:\\Users\\DELL\\anaconda3\\Lib\\site-packages\\keras\\src\\engine\\training.py:3079: UserWarning: You are saving your model as an HDF5 file via `model.save()`. This file format is considered legacy. We recommend using instead the native Keras format, e.g. `model.save('my_model.keras')`.\n",
      "  saving_api.save_model(\n"
     ]
    }
   ],
   "source": [
    "model.save('D:\\Praxis\\Term1 - IML\\model_saved.h5')"
   ]
  },
  {
   "cell_type": "code",
   "execution_count": 57,
   "id": "a0970f0c",
   "metadata": {},
   "outputs": [],
   "source": [
    "from keras.models import load_model\n",
    "model = load_model('D:\\Praxis\\Term1 - IML\\model_saved.h5')"
   ]
  },
  {
   "cell_type": "code",
   "execution_count": 58,
   "id": "dd0b98b8",
   "metadata": {},
   "outputs": [
    {
     "name": "stdout",
     "output_type": "stream",
     "text": [
      "1/1 [==============================] - 1s 659ms/step\n",
      "Predicted Class (0 - Cars , 1- Planes):  0.5095918\n"
     ]
    }
   ],
   "source": [
    "import tensorflow as tf\n",
    "from keras.models import load_model\n",
    "from keras.preprocessing.image import load_img\n",
    "from keras.preprocessing.image import img_to_array\n",
    "from keras.applications.vgg16 import preprocess_input\n",
    "from keras.applications.vgg16 import decode_predictions\n",
    "from keras.applications.vgg16 import VGG16\n",
    "import numpy as np\n",
    " \n",
    "from keras.models import load_model\n",
    " \n",
    "model = tf.keras.models.load_model('model_saved.h5')\n",
    " \n",
    "image = load_img('v_data/test/planes/5.jpg', target_size=(224, 224))\n",
    "img = np.array(image)\n",
    "img = img / 255.0\n",
    "img = img.reshape(1,224,224,3)\n",
    "label = model.predict(img)\n",
    "print(\"Predicted Class (0 - Cars , 1- Planes): \", label[0][0])"
   ]
  },
  {
   "cell_type": "code",
   "execution_count": null,
   "id": "c5e99fec",
   "metadata": {},
   "outputs": [],
   "source": []
  }
 ],
 "metadata": {
  "kernelspec": {
   "display_name": "Python 3 (ipykernel)",
   "language": "python",
   "name": "python3"
  },
  "language_info": {
   "codemirror_mode": {
    "name": "ipython",
    "version": 3
   },
   "file_extension": ".py",
   "mimetype": "text/x-python",
   "name": "python",
   "nbconvert_exporter": "python",
   "pygments_lexer": "ipython3",
   "version": "3.11.3"
  }
 },
 "nbformat": 4,
 "nbformat_minor": 5
}
